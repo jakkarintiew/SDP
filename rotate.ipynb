{
 "cells": [
  {
   "cell_type": "code",
   "execution_count": 4,
   "metadata": {
    "ExecuteTime": {
     "end_time": "2020-02-20T08:01:24.893206Z",
     "start_time": "2020-02-20T08:01:24.887640Z"
    }
   },
   "outputs": [],
   "source": [
    "%matplotlib inline\n",
    "import os\n",
    "import cv2\n",
    "import numpy as np\n",
    "from matplotlib import pyplot as plt\n",
    "\n",
    "# Helper Functions\n",
    "from helpers import *"
   ]
  },
  {
   "cell_type": "code",
   "execution_count": 7,
   "metadata": {
    "ExecuteTime": {
     "end_time": "2020-02-20T08:02:21.388773Z",
     "start_time": "2020-02-20T08:02:21.379402Z"
    }
   },
   "outputs": [],
   "source": [
    "def rotate(img, degree):\n",
    "    # get image height, width\n",
    "    (h, w) = img.shape[:2\n",
    "                    ]\n",
    "    # calculate the center of the image\n",
    "    center = (w / 2, h / 2)\n",
    "    scale = 1.0\n",
    "\n",
    "    M = cv2.getRotationMatrix2D(center, degree, scale)\n",
    "    return cv2.warpAffine(img, M, (h, w))\n",
    " "
   ]
  },
  {
   "cell_type": "code",
   "execution_count": 18,
   "metadata": {
    "ExecuteTime": {
     "end_time": "2020-02-20T08:11:02.999583Z",
     "start_time": "2020-02-20T08:10:18.961160Z"
    },
    "scrolled": false
   },
   "outputs": [],
   "source": [
    "path = './img_raw/slides_rotate/'\n",
    "files = os.listdir(path)\n",
    "for index, file in enumerate(files):\n",
    "    # convert image from BGR to RGB\n",
    "    img_sld = cv2.imread(os.path.join(path, file))\n",
    "#     show2img('original', img_sld, 'rotated',np.ascontiguousarray(np.rot90(np.rot90(np.rot90(img_sld)))))\n",
    "    cv2.imwrite('./img_raw/rotated/'+file, np.ascontiguousarray(np.rot90(np.rot90(np.rot90(img_sld)))))"
   ]
  },
  {
   "cell_type": "code",
   "execution_count": null,
   "metadata": {},
   "outputs": [],
   "source": []
  }
 ],
 "metadata": {
  "kernelspec": {
   "display_name": "Python 3",
   "language": "python",
   "name": "python3"
  },
  "language_info": {
   "codemirror_mode": {
    "name": "ipython",
    "version": 3
   },
   "file_extension": ".py",
   "mimetype": "text/x-python",
   "name": "python",
   "nbconvert_exporter": "python",
   "pygments_lexer": "ipython3",
   "version": "3.7.6"
  },
  "varInspector": {
   "cols": {
    "lenName": 16,
    "lenType": 16,
    "lenVar": 40
   },
   "kernels_config": {
    "python": {
     "delete_cmd_postfix": "",
     "delete_cmd_prefix": "del ",
     "library": "var_list.py",
     "varRefreshCmd": "print(var_dic_list())"
    },
    "r": {
     "delete_cmd_postfix": ") ",
     "delete_cmd_prefix": "rm(",
     "library": "var_list.r",
     "varRefreshCmd": "cat(var_dic_list()) "
    }
   },
   "types_to_exclude": [
    "module",
    "function",
    "builtin_function_or_method",
    "instance",
    "_Feature"
   ],
   "window_display": false
  }
 },
 "nbformat": 4,
 "nbformat_minor": 4
}
