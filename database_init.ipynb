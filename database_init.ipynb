{
 "cells": [
  {
   "cell_type": "code",
   "execution_count": 1,
   "metadata": {
    "ExecuteTime": {
     "end_time": "2020-02-03T12:29:16.969301Z",
     "start_time": "2020-02-03T12:29:16.577034Z"
    }
   },
   "outputs": [],
   "source": [
    "%matplotlib inline\n",
    "import os\n",
    "import cv2\n",
    "import numpy as np\n",
    "\n",
    "# Helper Functions\n",
    "from helpers import *"
   ]
  },
  {
   "cell_type": "markdown",
   "metadata": {},
   "source": [
    "### Read images"
   ]
  },
  {
   "cell_type": "code",
   "execution_count": 2,
   "metadata": {
    "ExecuteTime": {
     "end_time": "2020-02-03T12:29:17.189407Z",
     "start_time": "2020-02-03T12:29:17.159398Z"
    }
   },
   "outputs": [
    {
     "name": "stdout",
     "output_type": "stream",
     "text": [
      "Successfully Connected to SQLite\n",
      "SQLite table created\n",
      "sqlite connection is closed\n"
     ]
    }
   ],
   "source": [
    "import sqlite3\n",
    "\n",
    "# Create database and table\n",
    "try:\n",
    "    db = sqlite3.connect(\"database.db\")\n",
    "    cur = db.cursor()\n",
    "\n",
    "    sqlite_create_table_query = '''\n",
    "            CREATE TABLE block_images(id INTEGER PRIMARY KEY, block_img_raw BLOB NOT NULL)\n",
    "            '''\n",
    "\n",
    "    print(\"Successfully Connected to SQLite\")\n",
    "    cur.execute(sqlite_create_table_query)\n",
    "    db.commit()\n",
    "    print(\"SQLite table created\")\n",
    "    cur.close()\n",
    "\n",
    "except sqlite3.Error as error:\n",
    "    print(\"Error while creating a sqlite table\", error)\n",
    "finally:\n",
    "    if (db):\n",
    "        db.close()\n",
    "        print(\"sqlite connection is closed\")"
   ]
  },
  {
   "cell_type": "code",
   "execution_count": 4,
   "metadata": {
    "ExecuteTime": {
     "end_time": "2020-02-03T12:29:33.200478Z",
     "start_time": "2020-02-03T12:29:23.663378Z"
    }
   },
   "outputs": [],
   "source": [
    "db = sqlite3.connect(\"database.db\")\n",
    "cur = db.cursor()\n",
    "\n",
    "path = './img_raw/blocks/'\n",
    "files = os.listdir(path)\n",
    "for index, file in enumerate(files):\n",
    "    # convert image from BGR to RGB\n",
    "    img_blk = cv2.cvtColor(cv2.imread(os.path.join(path, file)), cv2.COLOR_BGR2RGB)\n",
    "    cur.execute(\"insert into block_images values(?,?)\",(index,img_blk))\n",
    "    db.commit()"
   ]
  }
 ],
 "metadata": {
  "kernelspec": {
   "display_name": "Python 3",
   "language": "python",
   "name": "python3"
  },
  "language_info": {
   "codemirror_mode": {
    "name": "ipython",
    "version": 3
   },
   "file_extension": ".py",
   "mimetype": "text/x-python",
   "name": "python",
   "nbconvert_exporter": "python",
   "pygments_lexer": "ipython3",
   "version": "3.7.6"
  },
  "varInspector": {
   "cols": {
    "lenName": 16,
    "lenType": 16,
    "lenVar": 40
   },
   "kernels_config": {
    "python": {
     "delete_cmd_postfix": "",
     "delete_cmd_prefix": "del ",
     "library": "var_list.py",
     "varRefreshCmd": "print(var_dic_list())"
    },
    "r": {
     "delete_cmd_postfix": ") ",
     "delete_cmd_prefix": "rm(",
     "library": "var_list.r",
     "varRefreshCmd": "cat(var_dic_list()) "
    }
   },
   "types_to_exclude": [
    "module",
    "function",
    "builtin_function_or_method",
    "instance",
    "_Feature"
   ],
   "window_display": false
  }
 },
 "nbformat": 4,
 "nbformat_minor": 4
}
