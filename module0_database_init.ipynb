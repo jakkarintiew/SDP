{
 "cells": [
  {
   "cell_type": "markdown",
   "metadata": {},
   "source": [
    "### Read images"
   ]
  },
  {
   "cell_type": "code",
   "execution_count": 5,
   "metadata": {
    "ExecuteTime": {
     "end_time": "2020-02-04T13:18:01.085869Z",
     "start_time": "2020-02-04T13:18:01.069593Z"
    }
   },
   "outputs": [
    {
     "name": "stdout",
     "output_type": "stream",
     "text": [
      "Successfully Connected to SQLite\n",
      "SQLite table created\n",
      "sqlite connection is closed\n"
     ]
    }
   ],
   "source": [
    "import sqlite3\n",
    "\n",
    "# Create database and table\n",
    "try:\n",
    "    db = sqlite3.connect(\"database.db\")\n",
    "    cur = db.cursor()\n",
    "    print(\"Successfully Connected to SQLite\")\n",
    "\n",
    "    sqlite_create_table_query = '''\n",
    "            CREATE TABLE block_images(id INTEGER PRIMARY KEY, block_img_raw BLOB NOT NULL)\n",
    "            '''\n",
    "\n",
    "    cur.execute(sqlite_create_table_query)\n",
    "    db.commit()\n",
    "    \n",
    "    sqlite_create_table_query = '''\n",
    "            CREATE TABLE slide_images(id INTEGER PRIMARY KEY, slide_img_raw BLOB NOT NULL)\n",
    "            '''\n",
    "\n",
    "    cur.execute(sqlite_create_table_query)\n",
    "    db.commit()\n",
    "    print(\"SQLite table created\")\n",
    "    cur.close()\n",
    "\n",
    "except sqlite3.Error as error:\n",
    "    print(\"Error while creating a sqlite table\", error)\n",
    "finally:\n",
    "    if (db):\n",
    "        db.close()\n",
    "        print(\"sqlite connection is closed\")"
   ]
  },
  {
   "cell_type": "code",
   "execution_count": 6,
   "metadata": {
    "ExecuteTime": {
     "end_time": "2020-02-04T13:18:24.039146Z",
     "start_time": "2020-02-04T13:18:03.093168Z"
    }
   },
   "outputs": [],
   "source": [
    "db = sqlite3.connect(\"database.db\")\n",
    "cur = db.cursor()\n",
    "\n",
    "path = './img_raw/blocks/'\n",
    "files = os.listdir(path)\n",
    "for index, file in enumerate(files):\n",
    "    # convert image from BGR to RGB\n",
    "    img_blk = cv2.cvtColor(cv2.imread(os.path.join(path, file)), cv2.COLOR_BGR2RGB)\n",
    "    cur.execute(\"insert into block_images values(?,?)\",(index,img_blk))\n",
    "    db.commit()\n",
    "    \n",
    "path = './img_raw/slides/'\n",
    "files = os.listdir(path)\n",
    "for index, file in enumerate(files):\n",
    "    # convert image from BGR to RGB\n",
    "    img_blk = cv2.cvtColor(cv2.imread(os.path.join(path, file)), cv2.COLOR_BGR2RGB)\n",
    "    cur.execute(\"insert into slide_images values(?,?)\",(index,img_blk))\n",
    "    db.commit()"
   ]
  },
  {
   "cell_type": "markdown",
   "metadata": {},
   "source": [
    "# HDF5 Image storage"
   ]
  },
  {
   "cell_type": "code",
   "execution_count": 4,
   "metadata": {},
   "outputs": [],
   "source": [
    "import numpy as np\n",
    "import pickle\n",
    "from pathlib import Path"
   ]
  },
  {
   "cell_type": "code",
   "execution_count": 3,
   "metadata": {},
   "outputs": [],
   "source": [
    "disk_dir = Path(\"data/img_raw/slides/\")\n",
    "lmdb_dir = Path(\"data/lmdb/\")\n",
    "hdf5_dir = Path(\"data/hdf5/\")\n",
    "disk_dir.mkdir(parents=True, exist_ok=True)\n",
    "lmdb_dir.mkdir(parents=True, exist_ok=True)\n",
    "hdf5_dir.mkdir(parents=True, exist_ok=True)"
   ]
  },
  {
   "cell_type": "code",
   "execution_count": 3,
   "metadata": {
    "ExecuteTime": {
     "end_time": "2020-02-04T16:12:54.897644Z",
     "start_time": "2020-02-04T16:12:54.811567Z"
    }
   },
   "outputs": [],
   "source": [
    "from PIL import Image\n",
    "import csv\n",
    "\n",
    "def store_single_disk(image, image_id, label):\n",
    "    \"\"\" Stores a single image as a .png file on disk.\n",
    "        Parameters:\n",
    "        ---------------\n",
    "        image       image array, (32, 32, 3) to be stored\n",
    "        image_id    integer unique ID for image\n",
    "        label       image label\n",
    "    \"\"\"\n",
    "    Image.fromarray(image).save(disk_dir / f\"{image_id}.png\")\n",
    "\n",
    "    with open(disk_dir / f\"{image_id}.csv\", \"wt\") as csvfile:\n",
    "        writer = csv.writer(\n",
    "            csvfile, delimiter=\" \", quotechar=\"|\", quoting=csv.QUOTE_MINIMAL\n",
    "        )\n",
    "        writer.writerow([label])\n",
    "        \n",
    "import lmdb\n",
    "import pickle\n",
    "\n",
    "class CIFAR_Image:\n",
    "    def __init__(self, image, label):\n",
    "        # Dimensions of image for reconstruction - not really necessary \n",
    "        # for this dataset, but some datasets may include images of \n",
    "        # varying sizes\n",
    "        self.channels = image.shape[2]\n",
    "        self.size = image.shape[:2]\n",
    "\n",
    "        self.image = image.tobytes()\n",
    "        self.label = label\n",
    "\n",
    "    def get_image(self):\n",
    "        \"\"\" Returns the image as a numpy array. \"\"\"\n",
    "        image = np.frombuffer(self.image, dtype=np.uint8)\n",
    "        return image.reshape(*self.size, self.channels)\n",
    "\n",
    "def store_single_lmdb(image, image_id, label):\n",
    "    \"\"\" Stores a single image to a LMDB.\n",
    "        Parameters:\n",
    "        ---------------\n",
    "        image       image array, (32, 32, 3) to be stored\n",
    "        image_id    integer unique ID for image\n",
    "        label       image label\n",
    "    \"\"\"\n",
    "    map_size = image.nbytes * 10\n",
    "\n",
    "    # Create a new LMDB environment\n",
    "    env = lmdb.open(str(lmdb_dir / f\"single_lmdb\"), map_size=map_size)\n",
    "\n",
    "    # Start a new write transaction\n",
    "    with env.begin(write=True) as txn:\n",
    "        # All key-value pairs need to be strings\n",
    "        value = CIFAR_Image(image, label)\n",
    "        key = f\"{image_id:08}\"\n",
    "        txn.put(key.encode(\"ascii\"), pickle.dumps(value))\n",
    "    env.close()\n",
    "    \n",
    "import h5py\n",
    "\n",
    "def store_single_hdf5(image, image_id, label):\n",
    "    \"\"\" Stores a single image to an HDF5 file.\n",
    "        Parameters:\n",
    "        ---------------\n",
    "        image       image array, (32, 32, 3) to be stored\n",
    "        image_id    integer unique ID for image\n",
    "        label       image label\n",
    "    \"\"\"\n",
    "    # Create a new HDF5 file\n",
    "    file = h5py.File(hdf5_dir / f\"{image_id}.h5\", \"w\")\n",
    "\n",
    "    # Create a dataset in the file\n",
    "    dataset = file.create_dataset(\n",
    "        \"image\", np.shape(image), h5py.h5t.STD_U8BE, data=image\n",
    "    )\n",
    "    meta_set = file.create_dataset(\n",
    "        \"meta\", np.shape(label), h5py.h5t.STD_U8BE, data=label\n",
    "    )\n",
    "    file.close()"
   ]
  },
  {
   "cell_type": "code",
   "execution_count": 4,
   "metadata": {
    "ExecuteTime": {
     "end_time": "2020-02-04T16:13:27.417605Z",
     "start_time": "2020-02-04T16:13:27.412350Z"
    }
   },
   "outputs": [],
   "source": [
    "_store_single_funcs = dict(\n",
    "    disk=store_single_disk, lmdb=store_single_lmdb, hdf5=store_single_hdf5\n",
    ")"
   ]
  },
  {
   "cell_type": "code",
   "execution_count": 5,
   "metadata": {
    "ExecuteTime": {
     "end_time": "2020-02-04T16:14:13.289582Z",
     "start_time": "2020-02-04T16:14:13.251601Z"
    }
   },
   "outputs": [
    {
     "name": "stdout",
     "output_type": "stream",
     "text": [
      "Method: disk, Time usage: 0.015935299999910058\n",
      "Method: lmdb, Time usage: 0.0039260999997168256\n",
      "Method: hdf5, Time usage: 0.005317399999967165\n"
     ]
    }
   ],
   "source": [
    "from timeit import timeit\n",
    "\n",
    "store_single_timings = dict()\n",
    "\n",
    "for method in (\"disk\", \"lmdb\", \"hdf5\"):\n",
    "    t = timeit(\n",
    "        \"_store_single_funcs[method](image, 0, label)\",\n",
    "        setup=\"image=images[0]; label=labels[0]\",\n",
    "        number=1,\n",
    "        globals=globals(),\n",
    "    )\n",
    "    store_single_timings[method] = t\n",
    "    print(f\"Method: {method}, Time usage: {t}\")"
   ]
  },
  {
   "cell_type": "code",
   "execution_count": 6,
   "metadata": {
    "ExecuteTime": {
     "end_time": "2020-02-04T16:14:58.931778Z",
     "start_time": "2020-02-04T16:14:58.919744Z"
    }
   },
   "outputs": [],
   "source": [
    "def store_many_disk(images, labels):\n",
    "    \"\"\" Stores an array of images to disk\n",
    "        Parameters:\n",
    "        ---------------\n",
    "        images       images array, (N, 32, 32, 3) to be stored\n",
    "        labels       labels array, (N, 1) to be stored\n",
    "    \"\"\"\n",
    "    num_images = len(images)\n",
    "\n",
    "    # Save all the images one by one\n",
    "    for i, image in enumerate(images):\n",
    "        Image.fromarray(image).save(disk_dir / f\"{i}.png\")\n",
    "\n",
    "    # Save all the labels to the csv file\n",
    "    with open(disk_dir / f\"{num_images}.csv\", \"w\") as csvfile:\n",
    "        writer = csv.writer(\n",
    "            csvfile, delimiter=\" \", quotechar=\"|\", quoting=csv.QUOTE_MINIMAL\n",
    "        )\n",
    "        for label in labels:\n",
    "            # This typically would be more than just one value per row\n",
    "            writer.writerow([label])\n",
    "\n",
    "def store_many_lmdb(images, labels):\n",
    "    \"\"\" Stores an array of images to LMDB.\n",
    "        Parameters:\n",
    "        ---------------\n",
    "        images       images array, (N, 32, 32, 3) to be stored\n",
    "        labels       labels array, (N, 1) to be stored\n",
    "    \"\"\"\n",
    "    num_images = len(images)\n",
    "\n",
    "    map_size = num_images * images[0].nbytes * 10\n",
    "\n",
    "    # Create a new LMDB DB for all the images\n",
    "    env = lmdb.open(str(lmdb_dir / f\"{num_images}_lmdb\"), map_size=map_size)\n",
    "\n",
    "    # Same as before — but let's write all the images in a single transaction\n",
    "    with env.begin(write=True) as txn:\n",
    "        for i in range(num_images):\n",
    "            # All key-value pairs need to be Strings\n",
    "            value = CIFAR_Image(images[i], labels[i])\n",
    "            key = f\"{i:08}\"\n",
    "            txn.put(key.encode(\"ascii\"), pickle.dumps(value))\n",
    "    env.close()\n",
    "\n",
    "def store_many_hdf5(images, labels):\n",
    "    \"\"\" Stores an array of images to HDF5.\n",
    "        Parameters:\n",
    "        ---------------\n",
    "        images       images array, (N, 32, 32, 3) to be stored\n",
    "        labels       labels array, (N, 1) to be stored\n",
    "    \"\"\"\n",
    "    num_images = len(images)\n",
    "\n",
    "    # Create a new HDF5 file\n",
    "    file = h5py.File(hdf5_dir / f\"{num_images}_many.h5\", \"w\")\n",
    "\n",
    "    # Create a dataset in the file\n",
    "    dataset = file.create_dataset(\n",
    "        \"images\", np.shape(images), h5py.h5t.STD_U8BE, data=images\n",
    "    )\n",
    "    meta_set = file.create_dataset(\n",
    "        \"meta\", np.shape(labels), h5py.h5t.STD_U8BE, data=labels\n",
    "    )\n",
    "    file.close()"
   ]
  },
  {
   "cell_type": "code",
   "execution_count": 7,
   "metadata": {
    "ExecuteTime": {
     "end_time": "2020-02-04T16:15:50.193994Z",
     "start_time": "2020-02-04T16:15:49.354256Z"
    }
   },
   "outputs": [
    {
     "name": "stdout",
     "output_type": "stream",
     "text": [
      "(100000, 32, 32, 3)\n",
      "(100000,)\n"
     ]
    }
   ],
   "source": [
    "cutoffs = [10, 100, 1000, 10000, 100000]\n",
    "\n",
    "# Let's double our images so that we have 100,000\n",
    "images = np.concatenate((images, images), axis=0)\n",
    "labels = np.concatenate((labels, labels), axis=0)\n",
    "\n",
    "# Make sure you actually have 100,000 images and labels\n",
    "print(np.shape(images))\n",
    "print(np.shape(labels))"
   ]
  },
  {
   "cell_type": "code",
   "execution_count": 10,
   "metadata": {
    "ExecuteTime": {
     "end_time": "2020-02-04T16:21:05.626343Z",
     "start_time": "2020-02-04T16:19:33.636249Z"
    }
   },
   "outputs": [
    {
     "name": "stdout",
     "output_type": "stream",
     "text": [
      "number of images = 10\n",
      "Method: disk, Time usage: 0.011713300000337767\n",
      "Method: lmdb, Time usage: 0.0037215000002106535\n",
      "Method: hdf5, Time usage: 0.0025729000003593683\n",
      "number of images = 100\n",
      "Method: disk, Time usage: 0.0683193999998366\n",
      "Method: lmdb, Time usage: 0.005529399999886664\n",
      "Method: hdf5, Time usage: 0.001977100000203791\n",
      "number of images = 1000\n",
      "Method: disk, Time usage: 0.6069304999996348\n",
      "Method: lmdb, Time usage: 0.05359379999981684\n",
      "Method: hdf5, Time usage: 0.0028593000001819746\n",
      "number of images = 10000\n",
      "Method: disk, Time usage: 6.253607399999964\n",
      "Method: lmdb, Time usage: 0.3733084999998937\n",
      "Method: hdf5, Time usage: 0.04736040000034336\n",
      "number of images = 100000\n",
      "Method: disk, Time usage: 76.05443690000038\n",
      "Method: lmdb, Time usage: 7.7430804000000535\n",
      "Method: hdf5, Time usage: 0.7490604999998141\n"
     ]
    }
   ],
   "source": [
    "_store_many_funcs = dict(\n",
    "    disk=store_many_disk, lmdb=store_many_lmdb, hdf5=store_many_hdf5\n",
    ")\n",
    "\n",
    "from timeit import timeit\n",
    "\n",
    "store_many_timings = {\"disk\": [], \"lmdb\": [], \"hdf5\": []}\n",
    "\n",
    "for cutoff in cutoffs:\n",
    "    print(f\"number of images = {cutoff}\")\n",
    "    for method in (\"disk\", \"lmdb\", \"hdf5\"):\n",
    "        t = timeit(\n",
    "            \"_store_many_funcs[method](images_, labels_)\",\n",
    "            setup=\"images_=images[:cutoff]; labels_=labels[:cutoff]\",\n",
    "            number=1,\n",
    "            globals=globals(),\n",
    "        )\n",
    "        store_many_timings[method].append(t)\n",
    "        # Print out the method, cutoff, and elapsed time\n",
    "        print(f\"Method: {method}, Time usage: {t}\")"
   ]
  },
  {
   "cell_type": "code",
   "execution_count": 11,
   "metadata": {
    "ExecuteTime": {
     "end_time": "2020-02-04T16:26:59.198649Z",
     "start_time": "2020-02-04T16:26:57.989180Z"
    }
   },
   "outputs": [
    {
     "data": {
      "image/png": "[encoded data removed]",
      "text/plain": [
       "<Figure size 720x504 with 1 Axes>"
      ]
     },
     "metadata": {},
     "output_type": "display_data"
    },
    {
     "data": {
      "image/png": "[encoded data removed]",
      "text/plain": [
       "<Figure size 720x504 with 1 Axes>"
      ]
     },
     "metadata": {},
     "output_type": "display_data"
    }
   ],
   "source": [
    "import matplotlib.pyplot as plt\n",
    "\n",
    "def plot_with_legend(\n",
    "    x_range, y_data, legend_labels, x_label, y_label, title, log=False\n",
    "):\n",
    "    \"\"\" Displays a single plot with multiple datasets and matching legends.\n",
    "        Parameters:\n",
    "        --------------\n",
    "        x_range         list of lists containing x data\n",
    "        y_data          list of lists containing y values\n",
    "        legend_labels   list of string legend labels\n",
    "        x_label         x axis label\n",
    "        y_label         y axis label\n",
    "    \"\"\"\n",
    "    plt.style.use(\"seaborn-whitegrid\")\n",
    "    plt.figure(figsize=(10, 7))\n",
    "\n",
    "    if len(y_data) != len(legend_labels):\n",
    "        raise TypeError(\n",
    "            \"Error: number of data sets does not match number of labels.\"\n",
    "        )\n",
    "\n",
    "    all_plots = []\n",
    "    for data, label in zip(y_data, legend_labels):\n",
    "        if log:\n",
    "            temp, = plt.loglog(x_range, data, label=label)\n",
    "        else:\n",
    "            temp, = plt.plot(x_range, data, label=label)\n",
    "        all_plots.append(temp)\n",
    "\n",
    "    plt.title(title)\n",
    "    plt.xlabel(x_label)\n",
    "    plt.ylabel(y_label)\n",
    "    plt.legend(handles=all_plots)\n",
    "    plt.show()\n",
    "\n",
    "# Getting the store timings data to display\n",
    "disk_x = store_many_timings[\"disk\"]\n",
    "lmdb_x = store_many_timings[\"lmdb\"]\n",
    "hdf5_x = store_many_timings[\"hdf5\"]\n",
    "\n",
    "plot_with_legend(\n",
    "    cutoffs,\n",
    "    [disk_x, lmdb_x, hdf5_x],\n",
    "    [\"PNG files\", \"LMDB\", \"HDF5\"],\n",
    "    \"Number of images\",\n",
    "    \"Seconds to store\",\n",
    "    \"Storage time\",\n",
    "    log=False,\n",
    ")\n",
    "\n",
    "plot_with_legend(\n",
    "    cutoffs,\n",
    "    [disk_x, lmdb_x, hdf5_x],\n",
    "    [\"PNG files\", \"LMDB\", \"HDF5\"],\n",
    "    \"Number of images\",\n",
    "    \"Seconds to store\",\n",
    "    \"Log storage time\",\n",
    "    log=True,\n",
    ")"
   ]
  },
  {
   "cell_type": "code",
   "execution_count": 12,
   "metadata": {
    "ExecuteTime": {
     "end_time": "2020-02-04T16:27:46.272665Z",
     "start_time": "2020-02-04T16:27:46.261162Z"
    }
   },
   "outputs": [],
   "source": [
    "def read_single_disk(image_id):\n",
    "    \"\"\" Stores a single image to disk.\n",
    "        Parameters:\n",
    "        ---------------\n",
    "        image_id    integer unique ID for image\n",
    "\n",
    "        Returns:\n",
    "        ----------\n",
    "        image       image array, (32, 32, 3) to be stored\n",
    "        label       associated meta data, int label\n",
    "    \"\"\"\n",
    "    image = np.array(Image.open(disk_dir / f\"{image_id}.png\"))\n",
    "\n",
    "    with open(disk_dir / f\"{image_id}.csv\", \"r\") as csvfile:\n",
    "        reader = csv.reader(\n",
    "            csvfile, delimiter=\" \", quotechar=\"|\", quoting=csv.QUOTE_MINIMAL\n",
    "        )\n",
    "        label = int(next(reader)[0])\n",
    "\n",
    "    return image, label\n",
    "\n",
    "def read_single_lmdb(image_id):\n",
    "    \"\"\" Stores a single image to LMDB.\n",
    "        Parameters:\n",
    "        ---------------\n",
    "        image_id    integer unique ID for image\n",
    "\n",
    "        Returns:\n",
    "        ----------\n",
    "        image       image array, (32, 32, 3) to be stored\n",
    "        label       associated meta data, int label\n",
    "    \"\"\"\n",
    "    # Open the LMDB environment\n",
    "    env = lmdb.open(str(lmdb_dir / f\"single_lmdb\"), readonly=True)\n",
    "\n",
    "    # Start a new read transaction\n",
    "    with env.begin() as txn:\n",
    "        # Encode the key the same way as we stored it\n",
    "        data = txn.get(f\"{image_id:08}\".encode(\"ascii\"))\n",
    "        # Remember it's a CIFAR_Image object that is loaded\n",
    "        cifar_image = pickle.loads(data)\n",
    "        # Retrieve the relevant bits\n",
    "        image = cifar_image.get_image()\n",
    "        label = cifar_image.label\n",
    "    env.close()\n",
    "\n",
    "    return image, label\n",
    "\n",
    "def read_single_hdf5(image_id):\n",
    "    \"\"\" Stores a single image to HDF5.\n",
    "        Parameters:\n",
    "        ---------------\n",
    "        image_id    integer unique ID for image\n",
    "\n",
    "        Returns:\n",
    "        ----------\n",
    "        image       image array, (32, 32, 3) to be stored\n",
    "        label       associated meta data, int label\n",
    "    \"\"\"\n",
    "    # Open the HDF5 file\n",
    "    file = h5py.File(hdf5_dir / f\"{image_id}.h5\", \"r+\")\n",
    "\n",
    "    image = np.array(file[\"/image\"]).astype(\"uint8\")\n",
    "    label = int(np.array(file[\"/meta\"]).astype(\"uint8\"))\n",
    "\n",
    "    return image, label"
   ]
  },
  {
   "cell_type": "code",
   "execution_count": 13,
   "metadata": {
    "ExecuteTime": {
     "end_time": "2020-02-04T16:27:47.871954Z",
     "start_time": "2020-02-04T16:27:47.867508Z"
    }
   },
   "outputs": [],
   "source": [
    "_read_single_funcs = dict(\n",
    "    disk=read_single_disk, lmdb=read_single_lmdb, hdf5=read_single_hdf5\n",
    ")"
   ]
  },
  {
   "cell_type": "code",
   "execution_count": 14,
   "metadata": {
    "ExecuteTime": {
     "end_time": "2020-02-04T16:27:56.552958Z",
     "start_time": "2020-02-04T16:27:56.517947Z"
    }
   },
   "outputs": [
    {
     "name": "stdout",
     "output_type": "stream",
     "text": [
      "Method: disk, Time usage: 0.006812499999796273\n",
      "Method: lmdb, Time usage: 0.006044800000381656\n",
      "Method: hdf5, Time usage: 0.010646900000210735\n"
     ]
    }
   ],
   "source": [
    "from timeit import timeit\n",
    "\n",
    "read_single_timings = dict()\n",
    "\n",
    "for method in (\"disk\", \"lmdb\", \"hdf5\"):\n",
    "    t = timeit(\n",
    "        \"_read_single_funcs[method](0)\",\n",
    "        setup=\"image=images[0]; label=labels[0]\",\n",
    "        number=1,\n",
    "        globals=globals(),\n",
    "    )\n",
    "    read_single_timings[method] = t\n",
    "    print(f\"Method: {method}, Time usage: {t}\")"
   ]
  },
  {
   "cell_type": "code",
   "execution_count": 15,
   "metadata": {
    "ExecuteTime": {
     "end_time": "2020-02-04T16:28:32.250602Z",
     "start_time": "2020-02-04T16:28:32.236033Z"
    }
   },
   "outputs": [],
   "source": [
    "def read_many_disk(num_images):\n",
    "    \"\"\" Reads image from disk.\n",
    "        Parameters:\n",
    "        ---------------\n",
    "        num_images   number of images to read\n",
    "\n",
    "        Returns:\n",
    "        ----------\n",
    "        images      images array, (N, 32, 32, 3) to be stored\n",
    "        labels      associated meta data, int label (N, 1)\n",
    "    \"\"\"\n",
    "    images, labels = [], []\n",
    "\n",
    "    # Loop over all IDs and read each image in one by one\n",
    "    for image_id in range(num_images):\n",
    "        images.append(np.array(Image.open(disk_dir / f\"{image_id}.png\")))\n",
    "\n",
    "    with open(disk_dir / f\"{num_images}.csv\", \"r\") as csvfile:\n",
    "        reader = csv.reader(\n",
    "            csvfile, delimiter=\" \", quotechar=\"|\", quoting=csv.QUOTE_MINIMAL\n",
    "        )\n",
    "        for row in reader:\n",
    "            labels.append(int(row[0]))\n",
    "    return images, labels\n",
    "\n",
    "def read_many_lmdb(num_images):\n",
    "    \"\"\" Reads image from LMDB.\n",
    "        Parameters:\n",
    "        ---------------\n",
    "        num_images   number of images to read\n",
    "\n",
    "        Returns:\n",
    "        ----------\n",
    "        images      images array, (N, 32, 32, 3) to be stored\n",
    "        labels      associated meta data, int label (N, 1)\n",
    "    \"\"\"\n",
    "    images, labels = [], []\n",
    "    env = lmdb.open(str(lmdb_dir / f\"{num_images}_lmdb\"), readonly=True)\n",
    "\n",
    "    # Start a new read transaction\n",
    "    with env.begin() as txn:\n",
    "        # Read all images in one single transaction, with one lock\n",
    "        # We could split this up into multiple transactions if needed\n",
    "        for image_id in range(num_images):\n",
    "            data = txn.get(f\"{image_id:08}\".encode(\"ascii\"))\n",
    "            # Remember that it's a CIFAR_Image object \n",
    "            # that is stored as the value\n",
    "            cifar_image = pickle.loads(data)\n",
    "            # Retrieve the relevant bits\n",
    "            images.append(cifar_image.get_image())\n",
    "            labels.append(cifar_image.label)\n",
    "    env.close()\n",
    "    return images, labels\n",
    "\n",
    "def read_many_hdf5(num_images):\n",
    "    \"\"\" Reads image from HDF5.\n",
    "        Parameters:\n",
    "        ---------------\n",
    "        num_images   number of images to read\n",
    "\n",
    "        Returns:\n",
    "        ----------\n",
    "        images      images array, (N, 32, 32, 3) to be stored\n",
    "        labels      associated meta data, int label (N, 1)\n",
    "    \"\"\"\n",
    "    images, labels = [], []\n",
    "\n",
    "    # Open the HDF5 file\n",
    "    file = h5py.File(hdf5_dir / f\"{num_images}_many.h5\", \"r+\")\n",
    "\n",
    "    images = np.array(file[\"/images\"]).astype(\"uint8\")\n",
    "    labels = np.array(file[\"/meta\"]).astype(\"uint8\")\n",
    "\n",
    "    return images, labels\n",
    "\n",
    "_read_many_funcs = dict(\n",
    "    disk=read_many_disk, lmdb=read_many_lmdb, hdf5=read_many_hdf5\n",
    ")"
   ]
  },
  {
   "cell_type": "code",
   "execution_count": 16,
   "metadata": {
    "ExecuteTime": {
     "end_time": "2020-02-04T16:30:41.265835Z",
     "start_time": "2020-02-04T16:28:54.549139Z"
    }
   },
   "outputs": [
    {
     "name": "stdout",
     "output_type": "stream",
     "text": [
      "number of images = 10\n",
      "Method: disk, No. images: 10, Time usage: 0.012810399999580113\n",
      "Method: lmdb, No. images: 10, Time usage: 0.0029105000003255554\n",
      "Method: hdf5, No. images: 10, Time usage: 0.0025783000000956235\n",
      "number of images = 100\n",
      "Method: disk, No. images: 100, Time usage: 0.09851699999944685\n",
      "Method: lmdb, No. images: 100, Time usage: 0.007034799999928509\n",
      "Method: hdf5, No. images: 100, Time usage: 0.0036433000004763016\n",
      "number of images = 1000\n",
      "Method: disk, No. images: 1000, Time usage: 0.9770233999997799\n",
      "Method: lmdb, No. images: 1000, Time usage: 0.05047610000019631\n",
      "Method: hdf5, No. images: 1000, Time usage: 0.012655500000619213\n",
      "number of images = 10000\n",
      "Method: disk, No. images: 10000, Time usage: 8.90342580000015\n",
      "Method: lmdb, No. images: 10000, Time usage: 0.40867439999965427\n",
      "Method: hdf5, No. images: 10000, Time usage: 0.09166689999983646\n",
      "number of images = 100000\n",
      "Method: disk, No. images: 100000, Time usage: 88.37190610000016\n",
      "Method: lmdb, No. images: 100000, Time usage: 5.979907099999764\n",
      "Method: hdf5, No. images: 100000, Time usage: 1.6758758999994825\n"
     ]
    }
   ],
   "source": [
    "images[0]\n",
    "labels[0].index = sgh_data[0].index\n",
    "\n",
    "\n",
    "read_many_timings = {\"disk\": [], \"lmdb\": [], \"hdf5\": []}\n",
    "\n",
    "for cutoff in cutoffs:\n",
    "    print(f\"number of images = {cutoff}\")\n",
    "    for method in (\"disk\", \"lmdb\", \"hdf5\"):\n",
    "        t = timeit(\n",
    "            \"_read_many_funcs[method](num_images)\",\n",
    "            setup=\"num_images=cutoff\",\n",
    "            number=1,\n",
    "            globals=globals(),\n",
    "        )\n",
    "        read_many_timings[method].append(t)\n",
    "\n",
    "        # Print out the method, cutoff, and elapsed time\n",
    "        print(f\"Method: {method}, No. images: {cutoff}, Time usage: {t}\")"
   ]
  },
  {
   "cell_type": "code",
   "execution_count": 1,
   "metadata": {
    "ExecuteTime": {
     "end_time": "2020-02-12T07:34:30.472730Z",
     "start_time": "2020-02-12T07:34:30.310248Z"
    }
   },
   "outputs": [
    {
     "ename": "NameError",
     "evalue": "name 'images_slide' is not defined",
     "output_type": "error",
     "traceback": [
      "\u001b[0;31m---------------------------------------------------------------------------\u001b[0m",
      "\u001b[0;31mNameError\u001b[0m                                 Traceback (most recent call last)",
      "\u001b[0;32m<ipython-input-1-7acec21475a2>\u001b[0m in \u001b[0;36m<module>\u001b[0;34m\u001b[0m\n\u001b[0;32m----> 1\u001b[0;31m \u001b[0mimages_slide\u001b[0m\u001b[0;34m[\u001b[0m\u001b[0;34m'ABSCSD1212321'\u001b[0m\u001b[0;34m]\u001b[0m\u001b[0;34m\u001b[0m\u001b[0;34m\u001b[0m\u001b[0m\n\u001b[0m\u001b[1;32m      2\u001b[0m \u001b[0;34m\u001b[0m\u001b[0m\n",
      "\u001b[0;31mNameError\u001b[0m: name 'images_slide' is not defined"
     ]
    }
   ],
   "source": [
    "images_slide['ABSCSD1212321']\n",
    "\n"
   ]
  },
  {
   "cell_type": "code",
   "execution_count": 2,
   "metadata": {
    "ExecuteTime": {
     "end_time": "2020-02-12T07:34:46.521256Z",
     "start_time": "2020-02-12T07:34:46.513233Z"
    }
   },
   "outputs": [
    {
     "ename": "SyntaxError",
     "evalue": "unexpected EOF while parsing (<ipython-input-2-fbb4d6cd3204>, line 1)",
     "output_type": "error",
     "traceback": [
      "\u001b[0;36m  File \u001b[0;32m\"<ipython-input-2-fbb4d6cd3204>\"\u001b[0;36m, line \u001b[0;32m1\u001b[0m\n\u001b[0;31m    for id in indexes:\u001b[0m\n\u001b[0m                      ^\u001b[0m\n\u001b[0;31mSyntaxError\u001b[0m\u001b[0;31m:\u001b[0m unexpected EOF while parsing\n"
     ]
    }
   ],
   "source": [
    "for id in indexes:\n",
    "    img = read()\n",
    "    img.index = label[id].id\n",
    "    \n",
    "    preprocess(img)\n",
    "    label[id].score = score(img)\n",
    "    \n",
    "    "
   ]
  },
  {
   "cell_type": "code",
   "execution_count": null,
   "metadata": {},
   "outputs": [],
   "source": [
    "\n"
   ]
  }
 ],
 "metadata": {
  "kernelspec": {
   "display_name": "Python 3",
   "language": "python",
   "name": "python3"
  },
  "language_info": {
   "codemirror_mode": {
    "name": "ipython",
    "version": 3
   },
   "file_extension": ".py",
   "mimetype": "text/x-python",
   "name": "python",
   "nbconvert_exporter": "python",
   "pygments_lexer": "ipython3",
   "version": "3.7.6-final"
  },
  "notify_time": "10",
  "varInspector": {
   "cols": {
    "lenName": 16,
    "lenType": 16,
    "lenVar": 40
   },
   "kernels_config": {
    "python": {
     "delete_cmd_postfix": "",
     "delete_cmd_prefix": "del ",
     "library": "var_list.py",
     "varRefreshCmd": "print(var_dic_list())"
    },
    "r": {
     "delete_cmd_postfix": ") ",
     "delete_cmd_prefix": "rm(",
     "library": "var_list.r",
     "varRefreshCmd": "cat(var_dic_list()) "
    }
   },
   "types_to_exclude": [
    "module",
    "function",
    "builtin_function_or_method",
    "instance",
    "_Feature"
   ],
   "window_display": false
  }
 },
 "nbformat": 4,
 "nbformat_minor": 4
}